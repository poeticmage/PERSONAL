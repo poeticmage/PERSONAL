{
 "cells": [
  {
   "cell_type": "code",
   "execution_count": 25,
   "id": "bfe071cb-dad2-4eae-9962-0b5cdc60c131",
   "metadata": {},
   "outputs": [],
   "source": [
    "%%capture\n",
    "import lightning "
   ]
  },
  {
   "cell_type": "code",
   "execution_count": 26,
   "id": "4f18615a-716b-469c-bc53-a1d229f02b98",
   "metadata": {},
   "outputs": [],
   "source": [
    "import torch\n",
    "import torch.nn as nn\n",
    "import torch.nn.functional as F\n",
    "from torch.optim import Adam\n",
    "import lightning as L\n",
    "from torch.utils.data import TensorDataset,DataLoader\n",
    "import matplotlib.pyplot as plt"
   ]
  },
  {
   "cell_type": "markdown",
   "id": "578fe44e-5768-4df9-acb5-4d24390569db",
   "metadata": {},
   "source": [
    "<h3>__00__</h3>\n",
    "<h3>_0__0_</h3>\n",
    "<h3>0____0</h3>     \n",
    "<h3>0____0</h3>\n",
    "<h3>_0__0_</h3>\n",
    "<h3>__00__</h3>\n",
    "<h3>       </h3>\n",
    "<h3>0____0</h3>\n",
    "<h3>_0__0_</h3>\n",
    "<h3>__00__</h3>\n",
    "<h3>__00__</h3>\n",
    "<h3>_0__0_</h3>\n",
    "<h3>0____0</h3>"
   ]
  },
  {
   "cell_type": "code",
   "execution_count": 27,
   "id": "2f9ca51d-b2ed-4ead-ad60-119a76d529fa",
   "metadata": {},
   "outputs": [],
   "source": [
    "oimg=    [[0, 0, 1, 1, 0, 0],\n",
    "           [0, 1, 0, 0, 1, 0],\n",
    "           [1, 0, 0, 0, 0, 1],\n",
    "           [1, 0, 0, 0, 0, 1],\n",
    "           [0, 1, 0, 0, 1, 0],\n",
    "           [0, 0, 1, 1, 0, 0]]\n",
    "ximg=      [[1, 0, 0, 0, 0, 1],\n",
    "           [0, 1, 0, 0, 1, 0],\n",
    "           [0, 0, 1, 1, 0, 0],\n",
    "           [0, 0, 1, 1, 0, 0],\n",
    "           [0, 1, 0, 0, 1, 0],\n",
    "           [1, 0, 0, 0, 0, 1]]"
   ]
  },
  {
   "cell_type": "code",
   "execution_count": 28,
   "id": "1bfde662-ade7-45e2-bbe4-9d0e22a7bf4a",
   "metadata": {},
   "outputs": [],
   "source": [
    "xi=torch.tensor([oimg,ximg]).type(torch.float32)"
   ]
  },
  {
   "cell_type": "code",
   "execution_count": 36,
   "id": "542bf1d2-4d2b-46ed-a0c0-3bc3ebdaad44",
   "metadata": {},
   "outputs": [],
   "source": [
    "yinp=[0,1]\n",
    "yi=F.one_hot(torch.tensor(yinp)).type(torch.float32)"
   ]
  },
  {
   "cell_type": "code",
   "execution_count": 37,
   "id": "4fffcd38-bbd7-48b5-8977-f172fd08be80",
   "metadata": {},
   "outputs": [],
   "source": [
    "dataset=TensorDataset(xi,yi)\n",
    "dl=DataLoader(dataset)"
   ]
  },
  {
   "cell_type": "code",
   "execution_count": 48,
   "id": "b9c2b109-081f-48ab-833b-f58137764e7a",
   "metadata": {},
   "outputs": [],
   "source": [
    "class Net(L.LightningModule):\n",
    "    def __init__(self):\n",
    "        super().__init__()\n",
    "        L.seed_everything(seed=42)\n",
    "        self.convolve=nn.Conv2d(in_channels=1,out_channels=1,kernel_size=3)\n",
    "        self.maxpooling=nn.MaxPool2d(kernel_size=2,stride=2)\n",
    "        self.pooltohidden=nn.Linear(in_features=4,out_features=1)\n",
    "        self.hiddentoout=nn.Linear(in_features=1,out_features=2)\n",
    "        self.loss=nn.CrossEntropyLoss()\n",
    "\n",
    "    def forward(self,x):\n",
    "        feat=self.convolve(x)\n",
    "        feat=F.relu(feat)\n",
    "        pool=self.maxpooling(feat)\n",
    "        pool=torch.flatten(pool,1)\n",
    "        xi=self.pooltohidden(pool)\n",
    "        yi=F.relu(xi)\n",
    "        out=self.hiddentoout(yi)\n",
    "        return out\n",
    "    def configure_optimizers(self):\n",
    "        return Adam(self.parameters(), lr=0.001)\n",
    "\n",
    "    def training_step(self,batch,batch_idx):\n",
    "        x,y=batch\n",
    "        out=self.forward(x)\n",
    "        loss=self.loss(out,y)\n",
    "        return loss\n",
    "        "
   ]
  },
  {
   "cell_type": "code",
   "execution_count": 49,
   "id": "d4d322da-8e6d-442f-8875-a48f31ba97cb",
   "metadata": {},
   "outputs": [],
   "source": [
    "model=Net()\n"
   ]
  },
  {
   "cell_type": "code",
   "execution_count": 54,
   "id": "0767d76b-78df-4d79-b38b-b56618a82dd6",
   "metadata": {},
   "outputs": [
    {
     "data": {
      "application/vnd.jupyter.widget-view+json": {
       "model_id": "523e7789db3d4f2ba376df767eccc1d5",
       "version_major": 2,
       "version_minor": 0
      },
      "text/plain": [
       "Training: |          | 0/? [00:00<?, ?it/s]"
      ]
     },
     "metadata": {},
     "output_type": "display_data"
    }
   ],
   "source": [
    "trainer=L.Trainer(max_epochs=100)\n",
    "trainer.fit(model, train_dataloaders=dl)"
   ]
  },
  {
   "cell_type": "code",
   "execution_count": 55,
   "id": "458789ff-3522-4c7e-a053-dce5862a6eaf",
   "metadata": {},
   "outputs": [
    {
     "name": "stdout",
     "output_type": "stream",
     "text": [
      "predicted_label: tensor([[0.8500, 0.1500]], grad_fn=<RoundBackward1>)\n",
      "original label: tensor([[1., 0.]])\n",
      "\n",
      "\n",
      "predicted_label: tensor([[0., 1.]], grad_fn=<RoundBackward1>)\n",
      "original label: tensor([[0., 1.]])\n",
      "\n",
      "\n"
     ]
    }
   ],
   "source": [
    "for batch_num, (image, label) in enumerate(dl):\n",
    "    \n",
    "    ## First, run the image through the model to make a prediction\n",
    "    prediction = model(image)\n",
    "    \n",
    "    ## Now make the prediction easy to read and interpret by\n",
    "    ## running it through torch.softmax() and torch.round()\n",
    "    predicted_label = torch.round(torch.softmax(prediction, dim=1), ## dim=0 applies softmax to rows, dim=1 applies soft to columns\n",
    "                                  decimals=2) \n",
    "    \n",
    "    ## Now print out the the predicted label and the original label\n",
    "    ## so we see how well our CNN performed.\n",
    "    print(\"predicted_label:\", predicted_label)\n",
    "    print(\"original label:\", label)\n",
    "    print(\"\\n\")"
   ]
  },
  {
   "cell_type": "code",
   "execution_count": 56,
   "id": "c9945a5e-a1f6-4ec1-9409-6727bd831573",
   "metadata": {},
   "outputs": [
    {
     "data": {
      "text/plain": [
       "[[0, 1, 0, 0, 0, 0],\n",
       " [0, 0, 1, 0, 0, 1],\n",
       " [0, 0, 0, 1, 1, 0],\n",
       " [0, 0, 0, 1, 1, 0],\n",
       " [0, 0, 1, 0, 0, 1],\n",
       " [0, 1, 0, 0, 0, 0]]"
      ]
     },
     "execution_count": 56,
     "metadata": {},
     "output_type": "execute_result"
    }
   ],
   "source": [
    "testx = [[0, 1, 0, 0, 0, 0],\n",
    "                   [0, 0, 1, 0, 0, 1],\n",
    "                   [0, 0, 0, 1, 1, 0],\n",
    "                   [0, 0, 0, 1, 1, 0],\n",
    "                   [0, 0, 1, 0, 0, 1],\n",
    "                   [0, 1, 0, 0, 0, 0]]\n",
    "testx"
   ]
  },
  {
   "cell_type": "code",
   "execution_count": 57,
   "id": "a2edcc0c-4c36-4e37-9cfe-f4eed4df46ad",
   "metadata": {},
   "outputs": [
    {
     "data": {
      "text/plain": [
       "tensor([[0.0500, 0.9500]], grad_fn=<RoundBackward1>)"
      ]
     },
     "execution_count": 57,
     "metadata": {},
     "output_type": "execute_result"
    }
   ],
   "source": [
    "prediction = model(torch.tensor([testx]).type(torch.float32))\n",
    "predicted_label = torch.round(torch.softmax(prediction, dim=1), decimals=2)\n",
    "predicted_label"
   ]
  },
  {
   "cell_type": "code",
   "execution_count": 58,
   "id": "6afd6743-6969-448f-b2c3-27ce55ce644c",
   "metadata": {},
   "outputs": [],
   "source": [
    "# since x is[0.0,1.0] and o is [1.0,0.1] , the prediction is good"
   ]
  },
  {
   "cell_type": "code",
   "execution_count": 59,
   "id": "4faab50b-ffc9-4dd9-aae6-ae24e0c960c4",
   "metadata": {},
   "outputs": [
    {
     "data": {
      "text/plain": [
       "[[0, 1, 1, 0, 0, 0],\n",
       " [1, 0, 0, 1, 0, 0],\n",
       " [0, 0, 0, 0, 1, 0],\n",
       " [0, 0, 0, 0, 1, 0],\n",
       " [1, 0, 0, 1, 0, 0],\n",
       " [0, 1, 1, 0, 0, 0]]"
      ]
     },
     "execution_count": 59,
     "metadata": {},
     "output_type": "execute_result"
    }
   ],
   "source": [
    "testo = [[0, 1, 1, 0, 0, 0],\n",
    "                   [1, 0, 0, 1, 0, 0],\n",
    "                   [0, 0, 0, 0, 1, 0],\n",
    "                   [0, 0, 0, 0, 1, 0],\n",
    "                   [1, 0, 0, 1, 0, 0],\n",
    "                   [0, 1, 1, 0, 0, 0]]\n",
    "testo"
   ]
  },
  {
   "cell_type": "code",
   "execution_count": 60,
   "id": "4d5073b5-3243-4c7d-998c-aad246580e52",
   "metadata": {},
   "outputs": [
    {
     "data": {
      "text/plain": [
       "tensor([[0.3800, 0.6200]], grad_fn=<RoundBackward1>)"
      ]
     },
     "execution_count": 60,
     "metadata": {},
     "output_type": "execute_result"
    }
   ],
   "source": [
    "prediction = model(torch.tensor([testo]).type(torch.float32))\n",
    "predicted_label = torch.round(torch.softmax(prediction, dim=1), decimals=2)\n",
    "predicted_label"
   ]
  },
  {
   "cell_type": "code",
   "execution_count": null,
   "id": "1b019fb4-2872-4691-a788-900050055d01",
   "metadata": {},
   "outputs": [],
   "source": []
  }
 ],
 "metadata": {
  "kernelspec": {
   "display_name": "Python 3",
   "language": "python",
   "name": "python3"
  },
  "language_info": {
   "codemirror_mode": {
    "name": "ipython",
    "version": 3
   },
   "file_extension": ".py",
   "mimetype": "text/x-python",
   "name": "python",
   "nbconvert_exporter": "python",
   "pygments_lexer": "ipython3",
   "version": "3.10.10"
  }
 },
 "nbformat": 4,
 "nbformat_minor": 5
}
