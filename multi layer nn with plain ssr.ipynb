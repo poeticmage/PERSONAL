{
 "cells": [
  {
   "cell_type": "code",
   "execution_count": 59,
   "id": "b07d0b94-68cf-47e4-b3a8-ce55ce1058a8",
   "metadata": {},
   "outputs": [],
   "source": [
    "%%capture\n",
    "! pip install lightning pandas\n",
    " "
   ]
  },
  {
   "cell_type": "code",
   "execution_count": 60,
   "id": "5b26df22-3e5f-40a3-afba-ddc974f704cb",
   "metadata": {},
   "outputs": [],
   "source": [
    "import torch\n",
    "import torch.nn as nn\n",
    "import torch.nn.functional as F\n",
    "from torch.optim import Adam\n",
    "import lightning as L\n",
    "from torch.utils.data import DataLoader,TensorDataset\n",
    "import pandas as pd\n",
    "from sklearn.model_selection import train_test_split\n",
    " "
   ]
  },
  {
   "cell_type": "code",
   "execution_count": 61,
   "id": "18aa727d-978c-4fdb-90a5-526c10074943",
   "metadata": {},
   "outputs": [
    {
     "data": {
      "text/html": [
       "<div>\n",
       "<style scoped>\n",
       "    .dataframe tbody tr th:only-of-type {\n",
       "        vertical-align: middle;\n",
       "    }\n",
       "\n",
       "    .dataframe tbody tr th {\n",
       "        vertical-align: top;\n",
       "    }\n",
       "\n",
       "    .dataframe thead th {\n",
       "        text-align: right;\n",
       "    }\n",
       "</style>\n",
       "<table border=\"1\" class=\"dataframe\">\n",
       "  <thead>\n",
       "    <tr style=\"text-align: right;\">\n",
       "      <th></th>\n",
       "      <th>5.1</th>\n",
       "      <th>3.5</th>\n",
       "      <th>1.4</th>\n",
       "      <th>0.2</th>\n",
       "      <th>Iris-setosa</th>\n",
       "    </tr>\n",
       "  </thead>\n",
       "  <tbody>\n",
       "    <tr>\n",
       "      <th>0</th>\n",
       "      <td>4.9</td>\n",
       "      <td>3.0</td>\n",
       "      <td>1.4</td>\n",
       "      <td>0.2</td>\n",
       "      <td>Iris-setosa</td>\n",
       "    </tr>\n",
       "    <tr>\n",
       "      <th>1</th>\n",
       "      <td>4.7</td>\n",
       "      <td>3.2</td>\n",
       "      <td>1.3</td>\n",
       "      <td>0.2</td>\n",
       "      <td>Iris-setosa</td>\n",
       "    </tr>\n",
       "    <tr>\n",
       "      <th>2</th>\n",
       "      <td>4.6</td>\n",
       "      <td>3.1</td>\n",
       "      <td>1.5</td>\n",
       "      <td>0.2</td>\n",
       "      <td>Iris-setosa</td>\n",
       "    </tr>\n",
       "    <tr>\n",
       "      <th>3</th>\n",
       "      <td>5.0</td>\n",
       "      <td>3.6</td>\n",
       "      <td>1.4</td>\n",
       "      <td>0.2</td>\n",
       "      <td>Iris-setosa</td>\n",
       "    </tr>\n",
       "    <tr>\n",
       "      <th>4</th>\n",
       "      <td>5.4</td>\n",
       "      <td>3.9</td>\n",
       "      <td>1.7</td>\n",
       "      <td>0.4</td>\n",
       "      <td>Iris-setosa</td>\n",
       "    </tr>\n",
       "  </tbody>\n",
       "</table>\n",
       "</div>"
      ],
      "text/plain": [
       "   5.1  3.5  1.4  0.2  Iris-setosa\n",
       "0  4.9  3.0  1.4  0.2  Iris-setosa\n",
       "1  4.7  3.2  1.3  0.2  Iris-setosa\n",
       "2  4.6  3.1  1.5  0.2  Iris-setosa\n",
       "3  5.0  3.6  1.4  0.2  Iris-setosa\n",
       "4  5.4  3.9  1.7  0.4  Iris-setosa"
      ]
     },
     "execution_count": 61,
     "metadata": {},
     "output_type": "execute_result"
    }
   ],
   "source": [
    "df= pd.read_table(\"iris.txt\",sep=\",\")\n",
    "df.head()"
   ]
  },
  {
   "cell_type": "code",
   "execution_count": 62,
   "id": "9cdb70b2-2acd-48e9-88e7-78abe65ae22e",
   "metadata": {},
   "outputs": [
    {
     "data": {
      "text/html": [
       "<div>\n",
       "<style scoped>\n",
       "    .dataframe tbody tr th:only-of-type {\n",
       "        vertical-align: middle;\n",
       "    }\n",
       "\n",
       "    .dataframe tbody tr th {\n",
       "        vertical-align: top;\n",
       "    }\n",
       "\n",
       "    .dataframe thead th {\n",
       "        text-align: right;\n",
       "    }\n",
       "</style>\n",
       "<table border=\"1\" class=\"dataframe\">\n",
       "  <thead>\n",
       "    <tr style=\"text-align: right;\">\n",
       "      <th></th>\n",
       "      <th>sepal_length</th>\n",
       "      <th>sepal_width</th>\n",
       "      <th>petal_length</th>\n",
       "      <th>petal_width</th>\n",
       "      <th>class</th>\n",
       "    </tr>\n",
       "  </thead>\n",
       "  <tbody>\n",
       "    <tr>\n",
       "      <th>0</th>\n",
       "      <td>4.9</td>\n",
       "      <td>3.0</td>\n",
       "      <td>1.4</td>\n",
       "      <td>0.2</td>\n",
       "      <td>Iris-setosa</td>\n",
       "    </tr>\n",
       "    <tr>\n",
       "      <th>1</th>\n",
       "      <td>4.7</td>\n",
       "      <td>3.2</td>\n",
       "      <td>1.3</td>\n",
       "      <td>0.2</td>\n",
       "      <td>Iris-setosa</td>\n",
       "    </tr>\n",
       "    <tr>\n",
       "      <th>2</th>\n",
       "      <td>4.6</td>\n",
       "      <td>3.1</td>\n",
       "      <td>1.5</td>\n",
       "      <td>0.2</td>\n",
       "      <td>Iris-setosa</td>\n",
       "    </tr>\n",
       "    <tr>\n",
       "      <th>3</th>\n",
       "      <td>5.0</td>\n",
       "      <td>3.6</td>\n",
       "      <td>1.4</td>\n",
       "      <td>0.2</td>\n",
       "      <td>Iris-setosa</td>\n",
       "    </tr>\n",
       "    <tr>\n",
       "      <th>4</th>\n",
       "      <td>5.4</td>\n",
       "      <td>3.9</td>\n",
       "      <td>1.7</td>\n",
       "      <td>0.4</td>\n",
       "      <td>Iris-setosa</td>\n",
       "    </tr>\n",
       "  </tbody>\n",
       "</table>\n",
       "</div>"
      ],
      "text/plain": [
       "   sepal_length  sepal_width  petal_length  petal_width        class\n",
       "0           4.9          3.0           1.4          0.2  Iris-setosa\n",
       "1           4.7          3.2           1.3          0.2  Iris-setosa\n",
       "2           4.6          3.1           1.5          0.2  Iris-setosa\n",
       "3           5.0          3.6           1.4          0.2  Iris-setosa\n",
       "4           5.4          3.9           1.7          0.4  Iris-setosa"
      ]
     },
     "execution_count": 62,
     "metadata": {},
     "output_type": "execute_result"
    }
   ],
   "source": [
    "df.columns = [\"sepal_length\",\n",
    "              \"sepal_width\",\n",
    "              \"petal_length\",\n",
    "              \"petal_width\",\n",
    "              \"class\"]\n",
    "df.head()"
   ]
  },
  {
   "cell_type": "code",
   "execution_count": 63,
   "id": "ad5a9021-a3ac-4e7e-ac31-c1760411c1e8",
   "metadata": {},
   "outputs": [
    {
     "data": {
      "text/plain": [
       "(149, 5)"
      ]
     },
     "execution_count": 63,
     "metadata": {},
     "output_type": "execute_result"
    }
   ],
   "source": [
    "df.shape"
   ]
  },
  {
   "cell_type": "code",
   "execution_count": 64,
   "id": "066a072d-39b2-4c20-9ba4-44107dece7de",
   "metadata": {},
   "outputs": [
    {
     "data": {
      "text/html": [
       "<div>\n",
       "<style scoped>\n",
       "    .dataframe tbody tr th:only-of-type {\n",
       "        vertical-align: middle;\n",
       "    }\n",
       "\n",
       "    .dataframe tbody tr th {\n",
       "        vertical-align: top;\n",
       "    }\n",
       "\n",
       "    .dataframe thead th {\n",
       "        text-align: right;\n",
       "    }\n",
       "</style>\n",
       "<table border=\"1\" class=\"dataframe\">\n",
       "  <thead>\n",
       "    <tr style=\"text-align: right;\">\n",
       "      <th></th>\n",
       "      <th>petal_length</th>\n",
       "      <th>petal_width</th>\n",
       "    </tr>\n",
       "  </thead>\n",
       "  <tbody>\n",
       "    <tr>\n",
       "      <th>0</th>\n",
       "      <td>1.4</td>\n",
       "      <td>0.2</td>\n",
       "    </tr>\n",
       "    <tr>\n",
       "      <th>1</th>\n",
       "      <td>1.3</td>\n",
       "      <td>0.2</td>\n",
       "    </tr>\n",
       "    <tr>\n",
       "      <th>2</th>\n",
       "      <td>1.5</td>\n",
       "      <td>0.2</td>\n",
       "    </tr>\n",
       "    <tr>\n",
       "      <th>3</th>\n",
       "      <td>1.4</td>\n",
       "      <td>0.2</td>\n",
       "    </tr>\n",
       "    <tr>\n",
       "      <th>4</th>\n",
       "      <td>1.7</td>\n",
       "      <td>0.4</td>\n",
       "    </tr>\n",
       "  </tbody>\n",
       "</table>\n",
       "</div>"
      ],
      "text/plain": [
       "   petal_length  petal_width\n",
       "0           1.4          0.2\n",
       "1           1.3          0.2\n",
       "2           1.5          0.2\n",
       "3           1.4          0.2\n",
       "4           1.7          0.4"
      ]
     },
     "execution_count": 64,
     "metadata": {},
     "output_type": "execute_result"
    }
   ],
   "source": [
    "xi=df[[\"petal_length\",\t\"petal_width\"]]\n",
    "xi.head()"
   ]
  },
  {
   "cell_type": "code",
   "execution_count": 65,
   "id": "7e8bf32c-19a1-4f8a-9554-315bbcb20b6d",
   "metadata": {},
   "outputs": [
    {
     "data": {
      "text/plain": [
       "0    Iris-setosa\n",
       "1    Iris-setosa\n",
       "2    Iris-setosa\n",
       "3    Iris-setosa\n",
       "4    Iris-setosa\n",
       "Name: class, dtype: object"
      ]
     },
     "execution_count": 65,
     "metadata": {},
     "output_type": "execute_result"
    }
   ],
   "source": [
    "yi=df[\"class\"]\n",
    "yi.head()"
   ]
  },
  {
   "cell_type": "code",
   "execution_count": 66,
   "id": "34c69b55-e262-4bd8-b410-faefb69570de",
   "metadata": {},
   "outputs": [
    {
     "data": {
      "text/plain": [
       "array([0, 0, 0, 0, 0, 0, 0, 0, 0, 0, 0, 0, 0, 0, 0, 0, 0, 0, 0, 0, 0, 0,\n",
       "       0, 0, 0, 0, 0, 0, 0, 0, 0, 0, 0, 0, 0, 0, 0, 0, 0, 0, 0, 0, 0, 0,\n",
       "       0, 0, 0, 0, 0, 1, 1, 1, 1, 1, 1, 1, 1, 1, 1, 1, 1, 1, 1, 1, 1, 1,\n",
       "       1, 1, 1, 1, 1, 1, 1, 1, 1, 1, 1, 1, 1, 1, 1, 1, 1, 1, 1, 1, 1, 1,\n",
       "       1, 1, 1, 1, 1, 1, 1, 1, 1, 1, 1, 2, 2, 2, 2, 2, 2, 2, 2, 2, 2, 2,\n",
       "       2, 2, 2, 2, 2, 2, 2, 2, 2, 2, 2, 2, 2, 2, 2, 2, 2, 2, 2, 2, 2, 2,\n",
       "       2, 2, 2, 2, 2, 2, 2, 2, 2, 2, 2, 2, 2, 2, 2, 2, 2])"
      ]
     },
     "execution_count": 66,
     "metadata": {},
     "output_type": "execute_result"
    }
   ],
   "source": [
    "yinum=yi.factorize()[0]\n",
    "yinum"
   ]
  },
  {
   "cell_type": "code",
   "execution_count": 67,
   "id": "01a95931-5887-4db1-82d4-bb01ca7e05a0",
   "metadata": {},
   "outputs": [],
   "source": [
    "xtrain,xtest,ytrain,ytest=train_test_split(xi,yinum,test_size=0.25,random_state=40)"
   ]
  },
  {
   "cell_type": "code",
   "execution_count": 68,
   "id": "3e37301c-a9ed-49c8-91d5-aec3b293b362",
   "metadata": {},
   "outputs": [
    {
     "name": "stdout",
     "output_type": "stream",
     "text": [
      "(111, 2) (38, 2) (111,) (38,)\n"
     ]
    }
   ],
   "source": [
    "print(xtrain.shape,xtest.shape,ytrain.shape,ytest.shape)"
   ]
  },
  {
   "cell_type": "code",
   "execution_count": 69,
   "id": "ffdc8943-d02b-4dd0-b1e0-5c2b57aef451",
   "metadata": {},
   "outputs": [
    {
     "data": {
      "text/plain": [
       "tensor([[0., 0., 1.],\n",
       "        [1., 0., 0.],\n",
       "        [1., 0., 0.],\n",
       "        [0., 1., 0.],\n",
       "        [0., 0., 1.]])"
      ]
     },
     "execution_count": 69,
     "metadata": {},
     "output_type": "execute_result"
    }
   ],
   "source": [
    "ytrainvector=F.one_hot(torch.tensor(ytrain)).type(torch.float32)\n",
    "ytrainvector[:5]"
   ]
  },
  {
   "cell_type": "code",
   "execution_count": 70,
   "id": "27410ac6-b943-42f4-b4bf-8767a623350f",
   "metadata": {},
   "outputs": [],
   "source": [
    "#NORMALIZATION OF INPUT TRAIN TO RANGE IN BW 0 AND 1. IMPORTANT FOR NEURAL NETWROK"
   ]
  },
  {
   "cell_type": "code",
   "execution_count": 71,
   "id": "7b2e431f-7880-4e4c-ad81-51e76b215553",
   "metadata": {},
   "outputs": [
    {
     "name": "stdout",
     "output_type": "stream",
     "text": [
      "222 149\n"
     ]
    }
   ],
   "source": [
    "# x=(x-x_min)/)(x_max-x_min)\n",
    "xmin=xtrain.min()\n",
    "xmax=xtrain.max()\n",
    "xtrain=(xtrain-xmin)/(xmax-xmin)\n",
    "print(xtrain.size,yinum.size)"
   ]
  },
  {
   "cell_type": "code",
   "execution_count": 72,
   "id": "578eb7df-6161-4877-a14b-26747a3c637d",
   "metadata": {},
   "outputs": [],
   "source": [
    "xmin=xtest.min()\n",
    "xmax=xtest.max()\n",
    "xtest=(xtest-xmin)/(xmax-xmin)\n"
   ]
  },
  {
   "cell_type": "code",
   "execution_count": 73,
   "id": "e33c52d2-13d0-412b-85a0-e12249a70236",
   "metadata": {},
   "outputs": [],
   "source": [
    "xtraints=torch.tensor(xtrain.values).type(torch.float32)\n",
    "xtestts=torch.tensor(xtest.values).type(torch.float32)"
   ]
  },
  {
   "cell_type": "code",
   "execution_count": 74,
   "id": "72ae66d3-c3b0-4b45-a63e-7babbd5756a7",
   "metadata": {},
   "outputs": [],
   "source": [
    "#Making the data for training"
   ]
  },
  {
   "cell_type": "code",
   "execution_count": 75,
   "id": "83c35637-8c64-4185-b2ae-6356cdc7abdc",
   "metadata": {},
   "outputs": [],
   "source": [
    "traindata=TensorDataset(xtraints,ytrainvector)\n",
    "dl=DataLoader(traindata)\n"
   ]
  },
  {
   "cell_type": "markdown",
   "id": "c148645c-18f6-4af7-83ff-b76cd8e04c28",
   "metadata": {},
   "source": [
    "Data READY FOR NN. NOW NN MODELLING"
   ]
  },
  {
   "cell_type": "markdown",
   "id": "57632105-ee9a-4829-9128-e60baf39b930",
   "metadata": {},
   "source": [
    "This neural netwrok is going to be a fully dense nn"
   ]
  },
  {
   "cell_type": "code",
   "execution_count": 76,
   "id": "577ef8bb-dd43-41c1-81b3-2dd41fd1ff8f",
   "metadata": {},
   "outputs": [],
   "source": [
    "class Net(L.LightningModule):\n",
    "    def __init__(self):\n",
    "        super().__init__()\n",
    "        L.seed_everything(seed=42) # Whatever random number gets generated through L, it remains predictable\n",
    "        self.input_to_hidden=nn.Linear(in_features=2,out_features=2,bias=True)\n",
    "        self.hidden_to_output=nn.Linear(in_features=2,out_features=3,bias=True)\n",
    "        self.loss=nn.MSELoss(reduction=\"sum\")\n",
    "    def forward(self,x):\n",
    "        xi= self.input_to_hidden(x)\n",
    "        yi=F.relu(xi)\n",
    "        out= self.hidden_to_output(yi)\n",
    "        return out\n",
    "    def configure_optimizers(self):\n",
    "        return Adam(self.parameters(), lr=0.001)\n",
    "    def training_step(self, batch, batch_idx):\n",
    "        # print(\"training\")\n",
    "        xi,yi=batch\n",
    "        out=self.forward(xi)\n",
    "        loss= self.loss(out,yi)\n",
    "        return loss"
   ]
  },
  {
   "cell_type": "code",
   "execution_count": 77,
   "id": "0b893c8a-c9af-4534-bbc3-4745f6c4368c",
   "metadata": {},
   "outputs": [
    {
     "name": "stderr",
     "output_type": "stream",
     "text": [
      "Seed set to 42\n"
     ]
    }
   ],
   "source": [
    "model=Net()\n"
   ]
  },
  {
   "cell_type": "code",
   "execution_count": 78,
   "id": "0baa2449-3d12-443b-a543-328d11719462",
   "metadata": {},
   "outputs": [
    {
     "name": "stderr",
     "output_type": "stream",
     "text": [
      "You are using the plain ModelCheckpoint callback. Consider using LitModelCheckpoint which with seamless uploading to Model registry.\n",
      "GPU available: False, used: False\n",
      "TPU available: False, using: 0 TPU cores\n",
      "HPU available: False, using: 0 HPUs\n",
      "\n",
      "  | Name             | Type    | Params | Mode \n",
      "-----------------------------------------------------\n",
      "0 | input_to_hidden  | Linear  | 6      | train\n",
      "1 | hidden_to_output | Linear  | 9      | train\n",
      "2 | loss             | MSELoss | 0      | train\n",
      "-----------------------------------------------------\n",
      "15        Trainable params\n",
      "0         Non-trainable params\n",
      "15        Total params\n",
      "0.000     Total estimated model params size (MB)\n",
      "3         Modules in train mode\n",
      "0         Modules in eval mode\n",
      "/home/zeus/miniconda3/envs/cloudspace/lib/python3.10/site-packages/lightning/pytorch/trainer/connectors/data_connector.py:425: The 'train_dataloader' does not have many workers which may be a bottleneck. Consider increasing the value of the `num_workers` argument` to `num_workers=3` in the `DataLoader` to improve performance.\n",
      "`Trainer.fit` stopped: `max_epochs=10` reached.\n"
     ]
    }
   ],
   "source": [
    "trainer = L.Trainer(max_epochs=10,enable_progress_bar=False)\n",
    "trainer.fit(model, train_dataloaders=dl)"
   ]
  },
  {
   "cell_type": "code",
   "execution_count": 79,
   "id": "fb41884a-690c-43b7-b569-758974a95d08",
   "metadata": {},
   "outputs": [],
   "source": [
    "pred=model(xtestts)"
   ]
  },
  {
   "cell_type": "code",
   "execution_count": 80,
   "id": "3f213c1b-89a9-46fd-bc9a-f43bb28ea285",
   "metadata": {},
   "outputs": [],
   "source": [
    "# pred"
   ]
  },
  {
   "cell_type": "code",
   "execution_count": 81,
   "id": "2aa7b7d2-4777-4bf7-b1af-8d72e2af39d4",
   "metadata": {},
   "outputs": [
    {
     "data": {
      "text/plain": [
       "tensor([0, 2, 2, 2, 2, 2, 2, 2, 2, 0, 2, 0, 0, 2, 2, 2, 2, 2, 2, 0, 2, 2, 2, 0,\n",
       "        2, 0, 0, 2, 0, 2, 2, 0, 0, 0, 0, 2, 0, 0])"
      ]
     },
     "execution_count": 81,
     "metadata": {},
     "output_type": "execute_result"
    }
   ],
   "source": [
    "argmaxval=torch.argmax(pred,dim=1)\n",
    "argmaxval"
   ]
  },
  {
   "cell_type": "code",
   "execution_count": 82,
   "id": "fc0cd73f-8c33-48fd-bf0f-1a712db493ba",
   "metadata": {},
   "outputs": [
    {
     "data": {
      "text/plain": [
       "tensor(0.6579)"
      ]
     },
     "execution_count": 82,
     "metadata": {},
     "output_type": "execute_result"
    }
   ],
   "source": [
    "torch.sum(torch.eq(torch.tensor(ytest), argmaxval)) / len(argmaxval)"
   ]
  },
  {
   "cell_type": "code",
   "execution_count": 83,
   "id": "8cddf5a2-79dc-48fd-adcc-6a9187854160",
   "metadata": {},
   "outputs": [
    {
     "data": {
      "text/plain": [
       "'/teamspace/studios/this_studio/signa/chapter_03/lightning_logs/version_19/checkpoints/epoch=9-step=1110.ckpt'"
      ]
     },
     "execution_count": 83,
     "metadata": {},
     "output_type": "execute_result"
    }
   ],
   "source": [
    "path_to_checkpoint = trainer.checkpoint_callback.best_model_path\n",
    "path_to_checkpoint"
   ]
  },
  {
   "cell_type": "code",
   "execution_count": 84,
   "id": "8305764a-a8e2-4adc-90c8-523e51e2d7ac",
   "metadata": {},
   "outputs": [
    {
     "name": "stderr",
     "output_type": "stream",
     "text": [
      "Seed set to 42\n",
      "You are using the plain ModelCheckpoint callback. Consider using LitModelCheckpoint which with seamless uploading to Model registry.\n",
      "GPU available: False, used: False\n",
      "TPU available: False, using: 0 TPU cores\n",
      "HPU available: False, using: 0 HPUs\n",
      "\n",
      "  | Name             | Type    | Params | Mode \n",
      "-----------------------------------------------------\n",
      "0 | input_to_hidden  | Linear  | 6      | train\n",
      "1 | hidden_to_output | Linear  | 9      | train\n",
      "2 | loss             | MSELoss | 0      | train\n",
      "-----------------------------------------------------\n",
      "15        Trainable params\n",
      "0         Non-trainable params\n",
      "15        Total params\n",
      "0.000     Total estimated model params size (MB)\n",
      "3         Modules in train mode\n",
      "0         Modules in eval mode\n",
      "`Trainer.fit` stopped: `max_epochs=100` reached.\n"
     ]
    }
   ],
   "source": [
    "model=Net()\n",
    "trainer = L.Trainer(max_epochs=100,enable_progress_bar=False)\n",
    "trainer.fit(model, train_dataloaders=dl)"
   ]
  },
  {
   "cell_type": "code",
   "execution_count": 85,
   "id": "f36f4cb3-cb78-4989-991a-559bb732b412",
   "metadata": {},
   "outputs": [],
   "source": [
    "pre=model(xtestts)\n",
    "argmaxval=torch.argmax(pre,dim=1)\n"
   ]
  },
  {
   "cell_type": "code",
   "execution_count": 86,
   "id": "e0dc4ec2-c6fc-4aad-80c6-a9ca37013cd9",
   "metadata": {},
   "outputs": [
    {
     "data": {
      "text/plain": [
       "tensor(0.7368)"
      ]
     },
     "execution_count": 86,
     "metadata": {},
     "output_type": "execute_result"
    }
   ],
   "source": [
    "torch.sum(torch.eq(torch.tensor(ytest), argmaxval)) / len(argmaxval)"
   ]
  },
  {
   "cell_type": "code",
   "execution_count": 87,
   "id": "baae4a7f-b6fc-4315-b18f-f349109ea505",
   "metadata": {},
   "outputs": [
    {
     "data": {
      "text/plain": [
       "'/teamspace/studios/this_studio/signa/chapter_03/lightning_logs/version_20/checkpoints/epoch=99-step=11100.ckpt'"
      ]
     },
     "execution_count": 87,
     "metadata": {},
     "output_type": "execute_result"
    }
   ],
   "source": [
    "path_to_checkpoint = trainer.checkpoint_callback.best_model_path\n",
    "path_to_checkpoint"
   ]
  },
  {
   "cell_type": "code",
   "execution_count": null,
   "id": "633304dd-a565-42ae-adde-080432bd2663",
   "metadata": {},
   "outputs": [],
   "source": []
  }
 ],
 "metadata": {
  "kernelspec": {
   "display_name": "Python 3",
   "language": "python",
   "name": "python3"
  },
  "language_info": {
   "codemirror_mode": {
    "name": "ipython",
    "version": 3
   },
   "file_extension": ".py",
   "mimetype": "text/x-python",
   "name": "python",
   "nbconvert_exporter": "python",
   "pygments_lexer": "ipython3",
   "version": "3.10.10"
  }
 },
 "nbformat": 4,
 "nbformat_minor": 5
}
